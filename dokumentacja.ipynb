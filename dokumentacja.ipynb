{
 "cells": [
  {
   "cell_type": "markdown",
   "metadata": {},
   "source": [
    "## Funkcji:\n",
    "### 1. lewomouse()\n",
    "która dodaje żywą komórkę do pola w miejscu kliknięcia gdy gracz naciśnie na prawy przycisk myszy.\n",
    "Wzór:\n",
    "siatka[wsiatka,qsiatka]=1.\n",
    "Argumenty:\n",
    "funkcja nie posiada argumentów.\n",
    "Wynik:\n",
    "można zobaczyć, klikając prawym przyciskiem myszy, pojawienie nowej żywej komórki w miejscu nacisku. \n",
    "### 2. prawomouse()\n",
    "która dodaje nowy glider do pola w miejscu kliknięcia gdy gracz naciśnie na lewy przycisk myszy.\n",
    "Wzór:\n",
    "plusglider(siatka,qsiatka,wsiatka).\n",
    "Argumenty:\n",
    "funkcja nie posiada argumentów.\n",
    "Wynik:\n",
    "można zobaczyć, klikając lewym przyciskiem myszy, pojawienie nowego glidera w miejscu nacisku. \n",
    "### 3. plusglider()\n",
    "Wzór:\n",
    "glider=[(1,0),(2,1),(0,2),(1,2),(2,2)], siatka[y+y1,x+x1]=1.\n",
    "Argumenty:\n",
    "siatka: dwuwymiarowa tablica, na której pojawie się glider. Każda komórka tablicy może mieć wartość 0 (martwa komórka) lub 1 (żywa komórka).\n",
    "x, y: współrzędne komórki na tablice, w której zacznie się umieszczanie glidera.\n",
    "Wynik:\n",
    "stworzenie glidera, dla po dalszego wyświetlania. "
   ]
  }
 ],
 "metadata": {
  "language_info": {
   "name": "python"
  }
 },
 "nbformat": 4,
 "nbformat_minor": 2
}
