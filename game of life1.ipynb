{
 "cells": [
  {
   "cell_type": "code",
   "id": "initial_id",
   "metadata": {
    "collapsed": true,
    "ExecuteTime": {
     "end_time": "2025-02-02T21:54:23.259131Z",
     "start_time": "2025-02-02T21:54:14.503970Z"
    }
   },
   "source": [
    "import numpy as np\n",
    "import pygame as pg\n",
    "\n",
    "# a szerokosc ekranu, b wysokosc\n",
    "a=900\n",
    "b=700\n",
    "cellrozmiar=17\n",
    "a_siatki=a//cellrozmiar\n",
    "b_siatki=b//cellrozmiar\n",
    "FPS=10\n",
    "\n",
    "Kpola=(56, 56, 56)\n",
    "Ksiatka=(112, 112, 112)\n",
    "Kcell=(196, 22, 106)\n",
    "K1=(0,0,0)\n",
    "\n",
    "pg.init()\n",
    "ekran=pg.display.set_mode((a,b))\n",
    "pg.display.set_caption(\"Game of life with player\")\n",
    "#icon=pg.image.load(\"flower icon 1.png\")\n",
    "#pg.display.set_icon(icon)\n",
    "czas=pg.time.Clock()\n",
    "siatka=np.zeros((b_siatki,a_siatki), dtype=int)\n",
    "\n",
    "def lewomouse():\n",
    "    if pg.mouse.get_pressed()[0]:\n",
    "        q,w=pg.mouse.get_pos() #(q,w) = (x,y)\n",
    "        qsiatka=q//cellrozmiar\n",
    "        wsiatka=w//cellrozmiar\n",
    "        if 0<=wsiatka and wsiatka<b_siatki and 0<=qsiatka and qsiatka<a_siatki:\n",
    "            siatka[wsiatka,qsiatka]=1\n",
    "\n",
    "def prawomouse():\n",
    "    if pg.mouse.get_pressed()[2]:\n",
    "        q,w=pg.mouse.get_pos()\n",
    "        qsiatka=q//cellrozmiar\n",
    "        wsiatka=w//cellrozmiar\n",
    "        if 0<=wsiatka and wsiatka<b_siatki and 0<=qsiatka and qsiatka<a_siatki:\n",
    "            plusglider(siatka,qsiatka,wsiatka)\n",
    "\n",
    "def plusglider(siatka,x,y):\n",
    "    glider=[(1,0),(2,1),(0,2),(1,2),(2,2)]\n",
    "    for x1, y1 in glider:\n",
    "        if 0<=x+x1<a_siatki and 0<=y+y1<b_siatki:\n",
    "            siatka[y+y1,x+x1]=1\n",
    "plusglider(siatka, 1,1)\n",
    "\n",
    "running=True\n",
    "time0=pg.time.get_ticks()\n",
    "cellskolvo=np.sum(siatka)\n",
    "while running:\n",
    "    ekran.fill(Kpola)\n",
    "    for event in pg.event.get():\n",
    "        if event.type==pg.QUIT:\n",
    "            running=False\n",
    "        elif event.type == pg.KEYDOWN and event.key == pg.K_ESCAPE:\n",
    "            running = False\n",
    "    lewomouse()\n",
    "    prawomouse()\n",
    "    for y in range(b_siatki):\n",
    "        for x in range(a_siatki):\n",
    "            rect=pg.Rect(x*cellrozmiar,y*cellrozmiar,cellrozmiar,cellrozmiar)\n",
    "            if siatka[y,x]==1:\n",
    "                pg.draw.rect(ekran,Kcell,rect)\n",
    "            pg.draw.rect(ekran,Ksiatka,rect,1)\n",
    "    nowasiatka=np.zeros((b_siatki,a_siatki), dtype=int)\n",
    "    for y in range(b_siatki):\n",
    "        for x in range(a_siatki):\n",
    "            sasiad=siatka[max(0,y-1):min(b_siatki,y+2),max(0,x-1):min(a_siatki,x+2)]\n",
    "            zyjesasiad=np.sum(sasiad) - siatka[y,x]\n",
    "            if siatka[y,x]==1 and zyjesasiad in [2,3]:\n",
    "                    nowasiatka[y,x]=1\n",
    "            else:\n",
    "                if siatka[y,x]==0 and zyjesasiad==3:\n",
    "                    nowasiatka[y,x]=1\n",
    "    siatka=nowasiatka\n",
    "\n",
    "    cellskolvo=max(cellskolvo,np.sum(siatka))\n",
    "    pg.display.flip()\n",
    "    czas.tick(FPS)\n",
    "bigtime=(pg.time.get_ticks()-time0)/1000\n",
    "pg.quit()\n",
    "print(\"czas gry = {:.02f} sekund\".format(bigtime))\n",
    "print(\"maks. liczba żywych komórek za czas gry = {}\".format(cellskolvo))\n"
   ],
   "outputs": [
    {
     "name": "stdout",
     "output_type": "stream",
     "text": [
      "pygame 2.6.1 (SDL 2.28.4, Python 3.12.8)\n",
      "Hello from the pygame community. https://www.pygame.org/contribute.html\n",
      "czas gry = 8.04 sekund\n",
      "maks. liczba żywych komórek za czas gry = 5\n"
     ]
    }
   ],
   "execution_count": 1
  }
 ],
 "metadata": {
  "kernelspec": {
   "display_name": "Python 3",
   "language": "python",
   "name": "python3"
  },
  "language_info": {
   "codemirror_mode": {
    "name": "ipython",
    "version": 2
   },
   "file_extension": ".py",
   "mimetype": "text/x-python",
   "name": "python",
   "nbconvert_exporter": "python",
   "pygments_lexer": "ipython2",
   "version": "2.7.6"
  }
 },
 "nbformat": 4,
 "nbformat_minor": 5
}
