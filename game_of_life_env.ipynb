{
 "cells": [
  {
   "cell_type": "code",
   "execution_count": null,
   "metadata": {},
   "outputs": [],
   "source": [
    "pip install numpy pygame\n"
   ]
  },
  {
   "cell_type": "code",
   "execution_count": null,
   "metadata": {},
   "outputs": [],
   "source": [
    "pip install virtualenv\n"
   ]
  },
  {
   "cell_type": "code",
   "execution_count": null,
   "metadata": {},
   "outputs": [],
   "source": [
    "cd ~/my_projects\n"
   ]
  },
  {
   "cell_type": "code",
   "execution_count": null,
   "metadata": {},
   "outputs": [],
   "source": [
    "virtualenv game_of_life_env\n",
    "\n"
   ]
  },
  {
   "cell_type": "code",
   "execution_count": null,
   "metadata": {},
   "outputs": [],
   "source": [
    "game_of_life_env\\Scripts\\activate\n"
   ]
  },
  {
   "cell_type": "code",
   "execution_count": null,
   "metadata": {},
   "outputs": [],
   "source": [
    "python -m venv game_of_life_env\n"
   ]
  },
  {
   "cell_type": "code",
   "execution_count": null,
   "metadata": {},
   "outputs": [],
   "source": [
    "\n",
    "pip install numpy pygame"
   ]
  },
  {
   "cell_type": "code",
   "execution_count": null,
   "metadata": {},
   "outputs": [],
   "source": [
    "game_of_life_env\\Scripts\\activate\n"
   ]
  },
  {
   "cell_type": "code",
   "execution_count": null,
   "metadata": {},
   "outputs": [],
   "source": [
    "pip install numpy pygame\n"
   ]
  },
  {
   "cell_type": "code",
   "execution_count": null,
   "metadata": {},
   "outputs": [],
   "source": [
    "import numpy as np\n",
    "import pygame as pg\n",
    "\n",
    "# a szerokosc ekranu, b wysokosc\n",
    "a = 900\n",
    "b = 700\n",
    "cellrozmiar = 17\n",
    "a_siatki = a // cellrozmiar\n",
    "b_siatki = b // cellrozmiar\n",
    "FPS = 10\n",
    "\n",
    "Kpola = (56, 56, 56)\n",
    "Ksiatka = (112, 112, 112)\n",
    "Kcell = (196, 22, 106)\n",
    "K1 = (0, 0, 0)\n",
    "\n",
    "pg.init()\n",
    "ekran = pg.display.set_mode((a, b))\n",
    "pg.display.set_caption(\"Game of life with player\")\n",
    "icon = pg.image.load(\"flower icon 1.png\")\n",
    "pg.display.set_icon(icon)\n",
    "czas = pg.time.Clock()\n",
    "siatka = np.zeros((b_siatki, a_siatki), dtype=int)\n",
    "\n",
    "def lewomouse():\n",
    "    if pg.mouse.get_pressed()[0]:\n",
    "        q, w = pg.mouse.get_pos()  # (q,w) = (x,y)\n",
    "        qsiatka = q // cellrozmiar\n",
    "        wsiatka = w // cellrozmiar\n",
    "        if 0 <= wsiatka and wsiatka < b_siatki and 0 <= qsiatka and qsiatka < a_siatki:\n",
    "            siatka[wsiatka, qsiatka] = 1\n",
    "\n",
    "running = True\n",
    "while running:\n",
    "    ekran.fill(Kpola)\n",
    "    for event in pg.event.get():\n",
    "        if event.type == pg.QUIT:\n",
    "            running = False\n",
    "    lewomouse()\n",
    "    for y in range(b_siatki):\n",
    "        for x in range(a_siatki):\n",
    "            rect = pg.Rect(x * cellrozmiar, y * cellrozmiar, cellrozmiar, cellrozmiar)\n",
    "            if siatka[y, x] == 1:\n",
    "                pg.draw.rect(ekran, Kcell, rect)\n",
    "            pg.draw.rect(ekran, Ksiatka, rect, 1)\n",
    "    nowasiatka = np.zeros((b_siatki, a_siatki), dtype=int)\n",
    "    for y in range(b_siatki):\n",
    "        for x in range(a_siatki):\n",
    "            sasiad = siatka[max(0, y - 1):min(b_siatki, y + 2), max(0, x - 1):min(a_siatki, x + 2)]\n",
    "            zyjesasiad = np.sum(sasiad) - siatka[y, x]\n",
    "            if siatka[y, x] == 1 and zyjesasiad in [2, 3]:\n",
    "                nowasiatka[y, x] = 1\n",
    "            else:\n",
    "                if siatka[y, x] == 0 and zyjesasiad == 3:\n",
    "                    nowasiatka[y, x] = 1\n",
    "    siatka = nowasiatka\n",
    "    pg.display.flip()\n",
    "    czas.tick(FPS)\n",
    "pg.quit()"
   ]
  }
 ],
 "metadata": {
  "language_info": {
   "name": "python"
  }
 },
 "nbformat": 4,
 "nbformat_minor": 2
}
