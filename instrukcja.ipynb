{
 "cells": [
  {
   "cell_type": "markdown",
   "metadata": {},
   "source": [
    "## Instrukcja obsługi projektu\n",
    "C:\\Users\\brian\\Downloads\\Srodowisko wirtualne (gra)\\Srodowisko wirtualne\\venv\\Lib\\site-packages\n",
    "1. Pobranie pliku \"Srodowisko wirtualne (gra)\", \"pygame\", \"numpy\".\n",
    "2. Rozpakowanie pliku \"Srodowisko wirtualne (gra)\" do folderu, ktory jest komfortowy dla uzytnika.\n",
    "2. Rozpakowanie plików \"pygame\" oraz \"numpy\" do folderu z adresem \"C:\\ *\"adres z dysku C do folderu \"Srodowisko wirtualne (gra)\" u uzytkwnika na komputerze\"* \\Srodowisko wirtualne (gra)\\Srodowisko wirtualne\\venv\\Lib\\site-packages\".\n",
    "3. Otworzenie folderu \"Srodowisko wirtualne (gra)\".\n",
    "4. Otworzenie folderu \"Srodowisko wirtualne\".\n",
    "5. Otworzeniu w nim pliku kodu z grą \"Gra do srodowiska wirtualnego\" (w reszcie folderu są pliki związane ze środowiskiem wirtualnym venv)."
   ]
  }
 ],
 "metadata": {
  "language_info": {
   "name": "python"
  }
 },
 "nbformat": 4,
 "nbformat_minor": 2
}
