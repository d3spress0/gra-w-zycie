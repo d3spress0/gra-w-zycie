{
 "cells": [
  {
   "cell_type": "markdown",
   "metadata": {},
   "source": [
    "# Project \"Gra w zycie\"\n",
    "### Temat projektu\n",
    "Gra w zycie (The game of life) - automat komórkowy Johna Conwaya.\n",
    "### Zasady gry\n",
    "1. Martwa komórka, która ma dokładnie 3 żywych sąsiadów, staje się żywa w następnej jednostce czasu (rodzi się)  \n",
    "2. Żywa komórka z 2 albo 3 żywymi sąsiadami pozostaje nadal żywa; przy innej liczbie sąsiadów umiera (z „samotności” albo „zatłoczenia”)\n",
    "### Jak dziala nasz projekt?\n",
    "Nasz projekt \"Gra w życie\" jest zrobiony tak, żeby w niego dało się grac. Wiec po uruchomieniu kodu, przed graczem odpala się szare pole podzielone na komórki, które są martwi oraz \"idąca\" przez pole figura, nazywająca się glider. Gracz ma funkcji dodawania nowych komórek oraz nowych gliderow, które przy dotykaniu się mogą stworzyć nowe ciekawe kombinacji. Gra skończy się, aż gracz zachce tego, wtedy powinien nacisnąć na krzyżyk albo na Esc. Po zakryciu program na dole wypisze graczowi, ile czasu on grał oraz największą liczbę żywych komórek na polu za cały czas grania.\n",
    "### Uzywane biblioteki\n",
    "1. numpy (alias np) jest używany do operacji na tablicach i macierzach.\n",
    "2. pygame (alias pg) jest używany do tworzenia okienka graficznego i interakcji.\n",
    "### Ustawienia początkowe:\n",
    "1. Definicja szerokości (a) i wysokości (b) ekranu.\n",
    "2. Rozmiar pojedynczej komórki (cellrozmiar).\n",
    "3. Liczba komórek na siatce w pionie (a_siatki) i poziomie (b_siatki).\n",
    "4. Ustawienie liczby klatek na sekundę (FPS).\n",
    "### Autorzy projektu:\n",
    "Natalia Gała  \n",
    "Anastasiia Khomenko  \n",
    "Zuzanna Seniuk  \n"
   ]
  }
 ],
 "metadata": {
  "language_info": {
   "name": "python"
  }
 },
 "nbformat": 4,
 "nbformat_minor": 2
}
